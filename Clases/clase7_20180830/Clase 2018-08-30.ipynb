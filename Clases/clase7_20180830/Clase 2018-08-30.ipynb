{
 "cells": [
  {
   "cell_type": "markdown",
   "metadata": {},
   "source": [
    "# 2018-08-30 (Jueves)\n",
    "\n",
    "## Tarea 2. Entrega hoy 23:59 hrs.\n",
    "\n",
    "## Reuniones proyecto\n",
    "\n",
    "--- \n",
    "\n",
    "## Funciones\n",
    "\n",
    "En todo lenguaje de programación podemos definir funciones que toman inputs y entregan un output. Se puede pensar una función como una caja negra que toma los objetos que le pasamos, los transforma, analiza y procesa, y produce un nuevo output dado esas transformaciones, analisis y procesos."
   ]
  },
  {
   "cell_type": "code",
   "execution_count": 2,
   "metadata": {},
   "outputs": [
    {
     "name": "stdout",
     "output_type": "stream",
     "text": [
      "4\n",
      "7\n",
      "5\n"
     ]
    }
   ],
   "source": [
    "def suma_uno(a):\n",
    "    '''\n",
    "    Esta función toma el parámetro \"a\" y le suma 1\n",
    "    '''\n",
    "    \n",
    "    return a + 1\n",
    "\n",
    "print(suma_uno(3))\n",
    "print(suma_uno(6))\n",
    "print(suma_uno(4))\n",
    "    "
   ]
  },
  {
   "cell_type": "markdown",
   "metadata": {},
   "source": [
    "Es importante que nuestras funciones estén bien documentadas y que sean lo más \"comprensivas\" posible, respecto a la variedad de situaciones en las que se pueden poner"
   ]
  },
  {
   "cell_type": "code",
   "execution_count": 3,
   "metadata": {},
   "outputs": [
    {
     "ename": "TypeError",
     "evalue": "Can't convert 'int' object to str implicitly",
     "output_type": "error",
     "traceback": [
      "\u001b[0;31m---------------------------------------------------------------------------\u001b[0m",
      "\u001b[0;31mTypeError\u001b[0m                                 Traceback (most recent call last)",
      "\u001b[0;32m<ipython-input-3-a0b072e768dc>\u001b[0m in \u001b[0;36m<module>\u001b[0;34m()\u001b[0m\n\u001b[0;32m----> 1\u001b[0;31m \u001b[0mprint\u001b[0m\u001b[1;33m(\u001b[0m\u001b[0msuma_uno\u001b[0m\u001b[1;33m(\u001b[0m\u001b[1;34m'1'\u001b[0m\u001b[1;33m)\u001b[0m\u001b[1;33m)\u001b[0m\u001b[1;33m\u001b[0m\u001b[0m\n\u001b[0m",
      "\u001b[0;32m<ipython-input-2-edac30b230ee>\u001b[0m in \u001b[0;36msuma_uno\u001b[0;34m(a)\u001b[0m\n\u001b[1;32m      4\u001b[0m     '''\n\u001b[1;32m      5\u001b[0m \u001b[1;33m\u001b[0m\u001b[0m\n\u001b[0;32m----> 6\u001b[0;31m     \u001b[1;32mreturn\u001b[0m \u001b[0ma\u001b[0m \u001b[1;33m+\u001b[0m \u001b[1;36m1\u001b[0m\u001b[1;33m\u001b[0m\u001b[0m\n\u001b[0m\u001b[1;32m      7\u001b[0m \u001b[1;33m\u001b[0m\u001b[0m\n\u001b[1;32m      8\u001b[0m \u001b[0mprint\u001b[0m\u001b[1;33m(\u001b[0m\u001b[0msuma_uno\u001b[0m\u001b[1;33m(\u001b[0m\u001b[1;36m3\u001b[0m\u001b[1;33m)\u001b[0m\u001b[1;33m)\u001b[0m\u001b[1;33m\u001b[0m\u001b[0m\n",
      "\u001b[0;31mTypeError\u001b[0m: Can't convert 'int' object to str implicitly"
     ]
    }
   ],
   "source": [
    "print(suma_uno('1'))"
   ]
  },
  {
   "cell_type": "markdown",
   "metadata": {},
   "source": [
    "La función anterior está mal definida, ya que arroja un error cuando se le entrega un input erroneo. Aquí hay varias opciones sobre qué hacer, lo mejor es siempre hacer explícita alguna situación puntual"
   ]
  },
  {
   "cell_type": "code",
   "execution_count": null,
   "metadata": {
    "collapsed": true
   },
   "outputs": [],
   "source": [
    "def suma_uno_mejor(a):\n",
    "    '''\n",
    "    Input: debe ser un número (int o float)\n",
    "    Return: entrega un número (int o float)\n",
    "    '''\n",
    "    \n",
    "    #revisa el tipo de la variable \"a\"\n",
    "    \n",
    "    if type(a) not in (int, float):\n",
    "        print('Advertencia, input erroneo')\n",
    "        return None\n",
    "    \n",
    "    return a + 1\n",
    "\n",
    "print(suma_uno_mejor('3'))\n",
    "print(suma_uno_mejor(3))\n",
    "print(suma_uno_mejor(3.3))"
   ]
  },
  {
   "cell_type": "markdown",
   "metadata": {},
   "source": [
    "#### Parametros por defecto\n"
   ]
  },
  {
   "cell_type": "code",
   "execution_count": null,
   "metadata": {
    "collapsed": true
   },
   "outputs": [],
   "source": [
    "def suma_delta(a, delta=1):\n",
    "    '''\n",
    "    Suma \"delta\" al número a. Si no entrega delta, se ocupa valor por defecto\n",
    "    '''\n",
    "    if type(a) not in (int, float):\n",
    "        print('Advertencia, input erroneo')\n",
    "        return None\n",
    "    \n",
    "    return a + delta\n",
    "\n",
    "print(suma_delta(4, 4))\n",
    "print(suma_delta(4))"
   ]
  },
  {
   "cell_type": "markdown",
   "metadata": {},
   "source": []
  },
  {
   "cell_type": "markdown",
   "metadata": {},
   "source": [
    "## Datos no estructurados\n",
    "\n",
    "Con datos no estructurado me refiero a cualquier colección de información que no esté en formato de base de datos y sobre la cual queramos extraer información relevante para nuestro análisis. En las siguientes clases trabajaremos extrayendo información de 3 tipos:\n",
    "\n",
    "- HTML\n",
    "- Texto (usando Expresiones Regulares)\n",
    "- APIs\n",
    "\n",
    "## 1. HTML\n",
    "\n",
    "HTML (Hypertext Markup Language) es el lenguaje estándar de páginas web. Dicho lenguaje permite estructurar y formatear documentos de texto a los cuales accedemos usualmente a través del explorador de internet (Chrome, Firefox, IExplorer, etc).\n",
    "\n",
    "La estructura típica de un documento HTML es la siguiente:\n",
    "\n",
    "```html\n",
    "<!DOCTYPE html>\n",
    "<html>\n",
    "    <head>\n",
    "    <title>Page Title</title>\n",
    "    </head>\n",
    "<body>\n",
    "    <div>\n",
    "        <h1>My First Heading</h1>\n",
    "        <p>My first paragraph.</p>\n",
    "    </div>\n",
    "</body>\n",
    "</html>\n",
    "```\n",
    "#### Ejemplo 1. Puntaje alumnos en Kattis"
   ]
  },
  {
   "cell_type": "code",
   "execution_count": null,
   "metadata": {
    "collapsed": true
   },
   "outputs": [],
   "source": [
    "# es importante correr esta celda solo 1 vez, para evitar hacer muchos GET requests a la pagina de Kattis\n",
    "\n",
    "import requests\n",
    "\n",
    "base_url = 'https://open.kattis.com/universities/uc.cl'\n",
    "\n",
    "request = requests.get(base_url)\n",
    "\n",
    "print(request.text)"
   ]
  },
  {
   "cell_type": "markdown",
   "metadata": {},
   "source": [
    "Existen librerías de Python que nos permiten \"navegar\" a través de la estructura (tags) y extraer información relevante. La librería que usaremos aquí se llama \"BeautifulSoup\"."
   ]
  },
  {
   "cell_type": "code",
   "execution_count": null,
   "metadata": {
    "collapsed": true
   },
   "outputs": [],
   "source": [
    "from bs4 import BeautifulSoup\n",
    "\n",
    "soup = BeautifulSoup(request.content, 'html.parser')\n",
    "\n",
    "tags = soup.find_all('table')\n",
    "\n",
    "print(tags)"
   ]
  },
  {
   "cell_type": "code",
   "execution_count": null,
   "metadata": {
    "collapsed": true
   },
   "outputs": [],
   "source": [
    "score_table = tags[1]\n",
    "\n",
    "print(score_table)"
   ]
  },
  {
   "cell_type": "code",
   "execution_count": null,
   "metadata": {
    "collapsed": true
   },
   "outputs": [],
   "source": [
    "#cargo lista de usuarios a buscar\n",
    "with open('usuarios_kattis.txt', 'r', encoding='utf-8-sig') as archivo:\n",
    "    alumnos = [line.strip() for line in archivo]\n",
    "\n",
    "print('Lista de usuarios a buscar:')\n",
    "print(alumnos)\n",
    "print()\n",
    "\n",
    "#selecciono las filas de la tabla\n",
    "row_tags = score_table.select('tr')\n",
    "print('Hay {} filas en la tabla'.format(len(row_tags)))\n"
   ]
  },
  {
   "cell_type": "code",
   "execution_count": null,
   "metadata": {
    "collapsed": true
   },
   "outputs": [],
   "source": [
    "\n",
    "print('Descargando datos de la tabla:...')\n",
    "print()\n",
    "\n",
    "rows_out = []\n",
    "\n",
    "#extraigo información fila por fila\n",
    "for row in row_tags:\n",
    "    \n",
    "    #selecciono las columnas de esa fila\n",
    "    col_tags = row.select('td')\n",
    "    \n",
    "    #extraigo el texto de cada \"celda\"\n",
    "    aux_row = [celda.get_text().strip() for celda in col_tags]\n",
    "    \n",
    "    #si hay información, la guardo\n",
    "    if aux_row:\n",
    "        rows_out.append(aux_row)\n",
    "\n",
    "for row in rows_out:\n",
    "    print(row)\n"
   ]
  },
  {
   "cell_type": "code",
   "execution_count": null,
   "metadata": {
    "collapsed": true
   },
   "outputs": [],
   "source": [
    "#extraigo información relevante de los usuarios que me interesan\n",
    "for num, nombre, pais, puntaje in rows_out:\n",
    "    if nombre in alumnos:\n",
    "        print((num, nombre, pais, puntaje))"
   ]
  },
  {
   "cell_type": "markdown",
   "metadata": {},
   "source": [
    "#### Ejemplo 2. Búsqueda información \"I'm feeling lucky\""
   ]
  },
  {
   "cell_type": "code",
   "execution_count": null,
   "metadata": {
    "collapsed": true
   },
   "outputs": [],
   "source": [
    "import requests\n",
    "\n",
    "base_url = 'http://www.google.com/search?q={}&btnI'\n",
    "\n",
    "terminos_a_buscar = ['carlos', 'alvarado']\n",
    "\n",
    "url = base_url.format('+'.join(terminos_a_buscar))\n",
    "\n",
    "print(url)\n",
    "\n",
    "request = requests.get(url)\n",
    "\n",
    "print(request.text)\n"
   ]
  },
  {
   "cell_type": "code",
   "execution_count": null,
   "metadata": {
    "collapsed": true
   },
   "outputs": [],
   "source": [
    "from bs4 import BeautifulSoup\n",
    "\n",
    "soup = BeautifulSoup(request.content, 'html.parser')\n",
    "\n",
    "print(soup.get_text())"
   ]
  }
 ],
 "metadata": {
  "anaconda-cloud": {},
  "kernelspec": {
   "display_name": "Python 3",
   "language": "python",
   "name": "python3"
  },
  "language_info": {
   "codemirror_mode": {
    "name": "ipython",
    "version": 3
   },
   "file_extension": ".py",
   "mimetype": "text/x-python",
   "name": "python",
   "nbconvert_exporter": "python",
   "pygments_lexer": "ipython3",
   "version": "3.6.3"
  }
 },
 "nbformat": 4,
 "nbformat_minor": 2
}
