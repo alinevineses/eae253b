{
 "cells": [
  {
   "cell_type": "markdown",
   "metadata": {},
   "source": [
    "# 2018-08-28 (Martes)\n",
    "## Feedback borradores proyectos\n",
    "## Tarea 2\n",
    "\n",
    "\n",
    "--- \n",
    "\n",
    "## Ejercicio en clase\n",
    "\n",
    "Practica con listas y diccionarios\n",
    "\n",
    "https://open.kattis.com/problems/printingcosts/"
   ]
  },
  {
   "cell_type": "code",
   "execution_count": 20,
   "metadata": {
    "collapsed": true
   },
   "outputs": [],
   "source": [
    "#cargamos datos del ejercicio\n",
    "\n",
    "COSTS = {\n",
    "    ' ': 0      ,    '!':   9  ,      '\"':   6   ,     '#':  24      ,  '$': 29       , '%':  22,\n",
    "    '&':  24    ,    \"'\":   3  ,      '(':  12   ,     ')':  12  ,      '*':  17  ,      '+':  13,\n",
    "    ',':   7    ,    '-':   7  ,      '.':   4   ,     '/':  10   ,    '0':  22    ,    '1':  19,\n",
    "    '2':  22    ,    '3':  23  ,      '4':  21   ,     '5':  27   ,     '6':  26   ,     '7':  16,\n",
    "    '8':  23    ,    '9':  26  ,      ':':   8   ,     ';':  11   ,     '<':  10   ,     '=': 14,\n",
    "    \">\":  10    ,    '?':  15  ,      \"@\":  32   ,     \"A\":  24  ,     \"B\":  29   ,     'C':  20,\n",
    "    'D':  26    ,    'E':  26  ,      'F':  20   ,     'G':  25   ,     'H':  25   ,     'I':  18,\n",
    "    'J':  18    ,    'K':  21  ,      'L':  16   ,     'M':  28   ,     'N':  25   ,     'O':  26,\n",
    "    'P':  23    ,    'Q':  31  ,      'R':  28   ,     'S':  25   ,     'T':  16   ,     'U':  23,\n",
    "    'V':  19    ,    'W':  26  ,      'X':  18   ,     'Y':  14   ,     'Z':  22   ,     \"[\":  18,\n",
    "    '\\\\': 10    ,    ']':  18  ,       \"^\":  7   ,      \"_\":   8   ,     '`':   3   ,     'a':  23,\n",
    "    'b':  25    ,    'c':  17  ,      'd':  25   ,     'e':  23   ,     'f':  18   ,     'g':  30,\n",
    "    'h':  21    ,    'i':  15  ,      'j':  20   ,     'k':  21   ,     'l':  16   ,     'm':  22,\n",
    "    'n':  18    ,    'o':  20  ,      'p':  25   ,     'q':  25   ,     'r':  13   ,     's':  21,\n",
    "    't':  17    ,    'u':  17  ,      'v':  13   ,     'w':  19   ,     'x':  13   ,     'y':  24,\n",
    "    'z':  19    ,    '{':  18  ,      '|':  12   ,     '}':  18   ,     '~':   9   }\n",
    "\n",
    "linea1 = 'This is a short line.'\n",
    "linea2 = 'THIS IS A LONGER, MORE EXPENSIVE LINE.'"
   ]
  },
  {
   "cell_type": "markdown",
   "metadata": {},
   "source": [
    "** Ejercicio: escriba un procedimiento que le permita calcular el costo de imprimir cada linea **"
   ]
  },
  {
   "cell_type": "code",
   "execution_count": 21,
   "metadata": {
    "collapsed": true
   },
   "outputs": [],
   "source": [
    "### completar código aquí para 1 linea\n",
    "\n"
   ]
  },
  {
   "cell_type": "markdown",
   "metadata": {},
   "source": [
    "\n",
    "\n",
    "## Datos no estructurados\n",
    "\n",
    "Con datos no estructurado me refiero a cualquier colección de información que no esté en formato de base de datos y sobre la cual queramos extraer información relevante para nuestro análisis. En las siguientes clases trabajaremos extrayendo información de 3 tipos:\n",
    "\n",
    "- HTML\n",
    "- Texto (usando Expresiones Regulares)\n",
    "- APIs\n",
    "\n",
    "## 1. HTML\n",
    "\n",
    "HTML (Hypertext Markup Language) es el lenguaje estándar de páginas web. Dicho lenguaje permite estructurar y formatear documentos de texto a los cuales accedemos usualmente a través del explorador de internet (Chrome, Firefox, IExplorer, etc).\n",
    "\n",
    "La estructura típica de un documento HTML es la siguiente:\n",
    "\n",
    "```html\n",
    "<!DOCTYPE html>\n",
    "<html>\n",
    "    <head>\n",
    "    <title>Page Title</title>\n",
    "    </head>\n",
    "<body>\n",
    "\n",
    "    <h1>My First Heading</h1>\n",
    "    <p>My first paragraph.</p>\n",
    "\n",
    "</body>\n",
    "</html>\n",
    "```\n",
    "\n",
    "Existen librerías de Python que nos permiten \"navegar\" a través de la estructura (tags) y extraer información relevante. La librería que usaremos aquí se llama \"BeautifulSoup\"."
   ]
  },
  {
   "cell_type": "markdown",
   "metadata": {},
   "source": [
    "#### Ejemplo 1. Puntaje alumnos en Kattis"
   ]
  },
  {
   "cell_type": "code",
   "execution_count": 15,
   "metadata": {},
   "outputs": [
    {
     "name": "stdout",
     "output_type": "stream",
     "text": [
      "['Martin Rafols', 'Gerardo Seminario La Torre', 'Aurelien Kaske', 'Miguel Angel Quintero Martinez', 'Gabriela Guadalupe Reyes Magaña', 'Ramón Alberto Escobar Madrid', 'Aline Vineses', 'Camila Hurtado', 'David Rolando Cornejo Arias', 'Gonzalo Alonso Garcia Hoffmann', 'Maria Antonia Bulnes', 'Mauricio Aburto', 'Nicolas Pasten Pardo', 'Nicolas Rodriguez Arnolds', 'Paulo Rosales']\n"
     ]
    }
   ],
   "source": [
    "with open('usuarios_kattis.txt', 'r', encoding='utf-8-sig') as archivo:\n",
    "    alumnos = [line.strip() for line in archivo]\n",
    "\n",
    "print(alumnos)"
   ]
  },
  {
   "cell_type": "code",
   "execution_count": 18,
   "metadata": {
    "collapsed": true
   },
   "outputs": [],
   "source": [
    "# es importante correr esta celda solo 1 vez, para evitar hacer muchos GET requests a la pagina de Kattis\n",
    "\n",
    "import requests\n",
    "\n",
    "from bs4 import BeautifulSoup\n",
    "\n",
    "base_url = 'https://open.kattis.com/universities/uc.cl'\n",
    "\n",
    "request = requests.get(base_url)\n"
   ]
  },
  {
   "cell_type": "code",
   "execution_count": 19,
   "metadata": {},
   "outputs": [
    {
     "name": "stdout",
     "output_type": "stream",
     "text": [
      "num tablas: 1\n",
      "('19', 'Martin Rafols', 'Chile', '6.0')\n",
      "('20', 'Aurelien Kaske', 'Chile', '5.8')\n",
      "('20', 'Gerardo Seminario La Torre', 'Chile', '5.8')\n",
      "('30', 'Miguel Angel Quintero Martinez', 'Chile', '3.4')\n",
      "('33', 'Gabriela Guadalupe Reyes Magaña', 'El Salvador', '2.2')\n",
      "('33', 'Ramón Alberto Escobar Madrid', 'El Salvador', '2.2')\n",
      "('37', 'Aline Vineses', 'Chile', '1.0')\n",
      "('37', 'Camila Hurtado', 'Chile', '1.0')\n",
      "('37', 'David Rolando Cornejo Arias', 'Chile', '1.0')\n",
      "('37', 'Gonzalo Alonso Garcia Hoffmann', 'Chile', '1.0')\n",
      "('37', 'Maria Antonia Bulnes', 'Chile', '1.0')\n",
      "('37', 'Mauricio Aburto', 'Chile', '1.0')\n",
      "('37', 'Nicolas Pasten Pardo', 'Chile', '1.0')\n",
      "('37', 'Nicolas Rodriguez Arnolds', 'Chile', '1.0')\n",
      "('37', 'Paulo Rosales', 'Chile', '1.0')\n"
     ]
    }
   ],
   "source": [
    "soup = BeautifulSoup(request.content, 'html.parser')\n",
    "\n",
    "tags = soup.find_all(class_='table table-hover table-kattis')\n",
    "\n",
    "print('num tablas:', len(tags))\n",
    "\n",
    "table = tags[0]\n",
    "\n",
    "row_tags = table.select('tr')\n",
    "\n",
    "rows_out = []\n",
    "\n",
    "for row in row_tags:\n",
    "    col_tags = row.select('td')\n",
    "    aux_row = [element.get_text().strip() for element in col_tags]\n",
    "    if aux_row:\n",
    "        rows_out.append(aux_row)\n",
    "\n",
    "for num, nombre, pais, puntaje in rows_out:\n",
    "    if nombre in alumnos:\n",
    "        print((num, nombre, pais, puntaje))\n",
    "    "
   ]
  },
  {
   "cell_type": "markdown",
   "metadata": {},
   "source": [
    "#### Ejemplo 2. Búsqueda información \"I'm feeling lucky\""
   ]
  },
  {
   "cell_type": "code",
   "execution_count": null,
   "metadata": {
    "collapsed": true
   },
   "outputs": [],
   "source": [
    "import requests\n",
    "\n",
    "base_url = 'http://www.google.com/search?q={}&btnI'\n",
    "\n",
    "terminos_a_buscar = ['carlos', 'alvarado']\n",
    "\n",
    "url = base_url.format('+'.join(terminos_a_buscar))\n",
    "\n",
    "print(url)\n",
    "\n",
    "request = requests.get(url)\n",
    "\n",
    "print(request.text)\n",
    "\n"
   ]
  },
  {
   "cell_type": "code",
   "execution_count": null,
   "metadata": {
    "collapsed": true
   },
   "outputs": [],
   "source": [
    "from bs4 import BeautifulSoup\n",
    "\n",
    "soup = BeautifulSoup(request.content, 'html.parser')\n",
    "\n",
    "print(soup.get_text())"
   ]
  },
  {
   "cell_type": "code",
   "execution_count": null,
   "metadata": {
    "collapsed": true
   },
   "outputs": [],
   "source": []
  },
  {
   "cell_type": "code",
   "execution_count": null,
   "metadata": {
    "collapsed": true
   },
   "outputs": [],
   "source": []
  }
 ],
 "metadata": {
  "anaconda-cloud": {},
  "kernelspec": {
   "display_name": "Python 3",
   "language": "python",
   "name": "python3"
  },
  "language_info": {
   "codemirror_mode": {
    "name": "ipython",
    "version": 3
   },
   "file_extension": ".py",
   "mimetype": "text/x-python",
   "name": "python",
   "nbconvert_exporter": "python",
   "pygments_lexer": "ipython3",
   "version": "3.6.3"
  }
 },
 "nbformat": 4,
 "nbformat_minor": 2
}
