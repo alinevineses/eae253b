{
 "cells": [
  {
   "cell_type": "markdown",
   "metadata": {},
   "source": [
    "# 2018-08-23 (Jueves)\n",
    "\n",
    "## Entrega propuesta proyecto\n",
    "\n",
    "Propuesta formal se entregará a través de repositorio privado del grupo\n",
    "\n",
    "## Tarea 2, entrega jueves 30 (subir códigos y PDF/markdown a repositorio privado)\n",
    "\n",
    "Incluso si Kattis no acepta código, subirlo igual a Git\n",
    "\n",
    "\n",
    "---\n",
    "\n",
    "\n",
    "\n"
   ]
  },
  {
   "cell_type": "code",
   "execution_count": null,
   "metadata": {
    "collapsed": false
   },
   "outputs": [],
   "source": [
    "#datos de ejemplo para la clase\n",
    "\n",
    "#leemos archivo de otra carpeta\n",
    "archivo = open('../clase4_20180821/nombres.txt', 'r', encoding='utf-8')\n",
    "\n",
    "cols = archivo.readline()\n",
    "\n",
    "data_nombres = []\n",
    "for line in archivo:\n",
    "    linea = line.strip().split('\\t')\n",
    "    data_nombres.append(linea[3])\n",
    "\n",
    "archivo.close()\n",
    "\n",
    "print(data_nombres)"
   ]
  },
  {
   "cell_type": "markdown",
   "metadata": {},
   "source": [
    "## Listas (continuación)\n",
    "\n",
    "##### List comprehension\n",
    "\n",
    "Otra herramienta muy utilizada con listas es lo que se llama \"list comprehension\". Esta es una particularidad incluida en Python (generalmente no encontrada en otros lenguajes) que nos permite crear listas derivadas de procesos iterativos.\n",
    "\n",
    "\"list comprehension\" quiere decir que, dentro de una lista, podemos incluir una instrucción a Python para crear la lista.\n",
    "\n",
    "Por ejemplo, supongamos que tenemos una base de datos con los nombres del curso, y queremos crear una lista con los nombres que comienzan con la letra \"A\". ¿cómo lo haríamos? "
   ]
  },
  {
   "cell_type": "code",
   "execution_count": null,
   "metadata": {
    "collapsed": false
   },
   "outputs": [],
   "source": [
    "nombres_con_a = []\n",
    "for nombres in data_nombres:\n",
    "    if nombres.startswith('A'):\n",
    "        nombres_con_a.append(nombres)\n",
    "\n",
    "print('nombres que comienzan con A')\n",
    "print(nombres_con_a)"
   ]
  },
  {
   "cell_type": "code",
   "execution_count": null,
   "metadata": {
    "collapsed": false
   },
   "outputs": [],
   "source": [
    "#con list comprehension:\n",
    "\n",
    "nombres_con_a = [nombres for nombres in data_nombres if nombres.startswith('A')]\n",
    "\n",
    "print('nombres que comienzan con A')\n",
    "print(nombres_con_a)"
   ]
  },
  {
   "cell_type": "markdown",
   "metadata": {},
   "source": [
    "**Quiz: y si queremos los nombres \"capitalized\"?**"
   ]
  },
  {
   "cell_type": "markdown",
   "metadata": {},
   "source": [
    "### Tuplas\n",
    "\n",
    "Son similares a las listas, pero no permiten modificacion de sus elementos. "
   ]
  },
  {
   "cell_type": "code",
   "execution_count": null,
   "metadata": {
    "collapsed": true
   },
   "outputs": [],
   "source": [
    "a = [2, 3]\n",
    "\n",
    "t = (a, [4, 5], 9)\n",
    "\n",
    "print(t)\n",
    "\n",
    "print(t[1:])\n",
    "\n",
    "a[0] = 8\n",
    "\n",
    "print(t)\n",
    "\n",
    "print(t[2])\n",
    "\n",
    "t[2] = 5"
   ]
  },
  {
   "cell_type": "markdown",
   "metadata": {
    "collapsed": true
   },
   "source": [
    "Uno de los usos genericos de tuplas es para guardar informacion que no queremos sea modificada, o que queremos se mantenga \"junta\" a lo largo de nuestros codigos. Por ejemplo:"
   ]
  },
  {
   "cell_type": "code",
   "execution_count": null,
   "metadata": {
    "collapsed": false
   },
   "outputs": [],
   "source": [
    "#leemos archivo de otra carpeta\n",
    "archivo = open('../clase4_20180821/nombres.txt', 'r', encoding='utf-8')\n",
    "\n",
    "cols = archivo.readline()\n",
    "\n",
    "data_nombres = []\n",
    "for line in archivo:\n",
    "    num, rut, apellido, nombre, curr = line.strip().split('\\t')\n",
    "    \n",
    "    data_nombres.append((rut, nombre, apellido))\n",
    "\n",
    "archivo.close()\n",
    "\n",
    "print(data_nombres)"
   ]
  },
  {
   "cell_type": "code",
   "execution_count": null,
   "metadata": {
    "collapsed": false
   },
   "outputs": [],
   "source": [
    "for rut_alumno, nombre_alumno, apellido_alumno in data_nombres:\n",
    "    \n",
    "    if 'AU' in nombre_alumno:\n",
    "        print(rut_alumno, nombre_alumno, apellido_alumno)"
   ]
  },
  {
   "cell_type": "code",
   "execution_count": null,
   "metadata": {
    "collapsed": false
   },
   "outputs": [],
   "source": [
    "for data in data_nombres:\n",
    "    data[1] = data[1].lower()\n",
    "\n",
    "\n",
    "print(data_nombres)"
   ]
  },
  {
   "cell_type": "markdown",
   "metadata": {},
   "source": [
    "### Strings y listas\n",
    "\n",
    "Ya vimos strings anteriormente. Solo queria mencionar aqui que la implimentación de strings en Python (y en otros lenguajes) es muy similar a la implementación de listas.\n",
    "\n",
    "Por eso en Python podemos hacer \"slicing\" sobre strings de la misma manera que lo hacemos sobre listas. Pero hay otras operaciones que no están permitidas (como cambiar items). En ese sentido, son más parecidos a tuplas.\n"
   ]
  },
  {
   "cell_type": "code",
   "execution_count": null,
   "metadata": {
    "collapsed": true
   },
   "outputs": [],
   "source": [
    "s = 'Hola como estas'\n",
    "\n",
    "s[3:9]\n",
    "\n",
    "a = s\n",
    "\n",
    "s = s.replace('o', 'e')\n",
    "\n",
    "print(a)\n",
    "print(s)"
   ]
  },
  {
   "cell_type": "markdown",
   "metadata": {},
   "source": [
    "La siguiente es una función de variables string, que se utiliza con listas:\n",
    "- str.join(l1): une los elementos de l1 con el string determinado"
   ]
  },
  {
   "cell_type": "code",
   "execution_count": null,
   "metadata": {
    "collapsed": false
   },
   "outputs": [],
   "source": [
    "print('h'.join(l2))"
   ]
  },
  {
   "cell_type": "markdown",
   "metadata": {},
   "source": [
    "## Diccionarios\n",
    "\n",
    "Los diccionarios son estructuras de datos que también están indexadas (como las listas están de 0 a N-1), pero el índice en los diccionarios no necesariamente sigue un orden definido."
   ]
  },
  {
   "cell_type": "code",
   "execution_count": null,
   "metadata": {
    "collapsed": true
   },
   "outputs": [],
   "source": [
    "d = {'maria': 7 , 'juan': 8, 'elisa': 8, 'diego': 8, 'pedro': 8}\n",
    "\n",
    "print(d)\n",
    "\n",
    "print(d['juan'])\n",
    "\n",
    "d['juan'] = False\n",
    "\n",
    "print(d['juan'])\n"
   ]
  },
  {
   "cell_type": "markdown",
   "metadata": {},
   "source": [
    "La gran ventaja de usar diccionarios es que nos permite encontrar valores que no tienen un orden lógico, de una manera rápida"
   ]
  },
  {
   "cell_type": "code",
   "execution_count": null,
   "metadata": {
    "collapsed": false
   },
   "outputs": [],
   "source": [
    "# busqueda de datos con listas:\n",
    "\n",
    "data = [('juan', 5), ('maria', 6), ('pedro', 3), ('sofia', 7)]\n",
    "\n",
    "#cual es la nota de pedro?\n",
    "\n",
    "nom_buscado = 'pedro'\n",
    "\n",
    "for nombre, nota in data:\n",
    "    if nombre == nom_buscado:\n",
    "        print(nota)\n",
    "        "
   ]
  },
  {
   "cell_type": "code",
   "execution_count": null,
   "metadata": {
    "collapsed": false
   },
   "outputs": [],
   "source": [
    "# busqueda con diccionarios\n",
    "\n",
    "data = {'juan': 5, 'maria': 6, 'pedro': 3, 'sofia': 7}\n",
    "\n",
    "print(data[nom_buscado])"
   ]
  },
  {
   "cell_type": "markdown",
   "metadata": {},
   "source": [
    "qué podemos usar cómo índices (keys)? --> cualquier cosa que sea inmutable (o sea, no podemos usar listas), y \"hashable\"\n",
    "\n",
    "en español, se recomienda usar strings, números o tuplas "
   ]
  },
  {
   "cell_type": "code",
   "execution_count": null,
   "metadata": {
    "collapsed": false
   },
   "outputs": [],
   "source": [
    "# cuidado con ocupar floats...\n",
    "\n",
    "diccionario = {}\n",
    "\n",
    "diccionario[1-0.9] = 'datos valiosos'\n",
    "\n",
    "print(diccionario[0.1])"
   ]
  },
  {
   "cell_type": "markdown",
   "metadata": {},
   "source": [
    "Ejemplo de uso un poco más real de diccionarios: tablas de frecuencia.\n",
    "\n",
    "**Quiz: Busque el número de alumnos del curso que están en cada curriculo**"
   ]
  },
  {
   "cell_type": "markdown",
   "metadata": {},
   "source": [
    "## Funciones\n",
    "\n",
    "En todo lenguaje de programación podemos definir funciones que toman inputs y entregan un output. Se puede pensar una función como una caja negra que toma los objetos que le pasamos, los transforma, analiza y procesa, y produce un nuevo output dado esas transformaciones, analisis y procesos."
   ]
  },
  {
   "cell_type": "code",
   "execution_count": null,
   "metadata": {
    "collapsed": false
   },
   "outputs": [],
   "source": [
    "def suma_uno(a):\n",
    "    '''\n",
    "    Esta función toma el parámetro \"a\" y le suma 1\n",
    "    '''\n",
    "    \n",
    "    return a + 1\n",
    "\n",
    "print(suma_uno(3))\n",
    "print(suma_uno(6))\n",
    "print(suma_uno(4))\n",
    "    "
   ]
  },
  {
   "cell_type": "markdown",
   "metadata": {},
   "source": [
    "Es importante que nuestras funciones estén bien documentadas y que sean lo más \"comprensivas\" posible, respecto a la variedad de situaciones en las que se pueden poner"
   ]
  },
  {
   "cell_type": "code",
   "execution_count": null,
   "metadata": {
    "collapsed": false
   },
   "outputs": [],
   "source": [
    "print(suma_uno('1'))"
   ]
  },
  {
   "cell_type": "markdown",
   "metadata": {},
   "source": [
    "La función anterior está mal definida, ya que arroja un error cuando se le entrega un input erroneo. Aquí hay varias opciones sobre qué hacer, lo mejor es siempre hacer explícita alguna situación puntual"
   ]
  },
  {
   "cell_type": "code",
   "execution_count": null,
   "metadata": {
    "collapsed": false
   },
   "outputs": [],
   "source": [
    "def suma_uno_mejor(a):\n",
    "    '''\n",
    "    Input: debe ser un número (int o float)\n",
    "    Return: entrega un número (int o float)\n",
    "    '''\n",
    "    \n",
    "    #revisa el tipo de la variable \"a\"\n",
    "    \n",
    "    if type(a) not in (int, float):\n",
    "        print('Advertencia, input erroneo')\n",
    "        return None\n",
    "    \n",
    "    return a + 1\n",
    "\n",
    "print(suma_uno_mejor('3'))\n",
    "print(suma_uno_mejor(3))\n",
    "print(suma_uno_mejor(3.3))"
   ]
  },
  {
   "cell_type": "markdown",
   "metadata": {},
   "source": [
    "#### Parametros por defecto\n",
    "\n"
   ]
  },
  {
   "cell_type": "code",
   "execution_count": null,
   "metadata": {
    "collapsed": false
   },
   "outputs": [],
   "source": [
    "def suma_delta(a, delta=1):\n",
    "    '''\n",
    "    Suma \"delta\" al número a. Si no entrega delta, se ocupa valor por defecto\n",
    "    '''\n",
    "    if type(a) not in (int, float):\n",
    "        print('Advertencia, input erroneo')\n",
    "        return None\n",
    "    \n",
    "    return a + delta\n",
    "\n",
    "print(suma_delta(4, 4))\n",
    "print(suma_delta(4))"
   ]
  },
  {
   "cell_type": "code",
   "execution_count": null,
   "metadata": {
    "collapsed": true
   },
   "outputs": [],
   "source": []
  }
 ],
 "metadata": {
  "anaconda-cloud": {},
  "kernelspec": {
   "display_name": "Python [default]",
   "language": "python",
   "name": "python3"
  },
  "language_info": {
   "codemirror_mode": {
    "name": "ipython",
    "version": 3
   },
   "file_extension": ".py",
   "mimetype": "text/x-python",
   "name": "python",
   "nbconvert_exporter": "python",
   "pygments_lexer": "ipython3",
   "version": "3.5.5"
  }
 },
 "nbformat": 4,
 "nbformat_minor": 2
}
