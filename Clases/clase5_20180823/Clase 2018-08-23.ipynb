{
 "cells": [
  {
   "cell_type": "markdown",
   "metadata": {},
   "source": [
    "# 2018-08-23 (Jueves)\n",
    "\n",
    "## Entrega propuesta proyecto\n",
    "\n",
    "## Tarea 2, entrega jueves 30 (subir códigos y PDF/markdown a Git)\n",
    "\n",
    "---\n",
    "\n",
    "\n",
    "\n"
   ]
  },
  {
   "cell_type": "markdown",
   "metadata": {},
   "source": [
    "## Listas (continuación)\n",
    "\n",
    "##### List comprehension\n",
    "\n",
    "Otra herramienta muy utilizada con listas es lo que se llama \"list comprehension\". Esta es una particularidad incluida en Python (generalmente no encontrada en otros lenguajes) que nos permite crear listas derivadas de procesos iterativos.\n",
    "\n",
    "\"list comprehension\" quiere decir que, dentro de una lista, podemos incluir una instrucción a Python para crear la lista.\n",
    "\n",
    "Por ejemplo, supongamos que tenemos una base de datos con los nombres del curso, y queremos crear una lista con los nombres que comienzan con la letra \"A\". ¿cómo lo haríamos? "
   ]
  },
  {
   "cell_type": "code",
   "execution_count": null,
   "metadata": {
    "collapsed": true
   },
   "outputs": [],
   "source": [
    "print(data)"
   ]
  },
  {
   "cell_type": "code",
   "execution_count": null,
   "metadata": {
    "collapsed": true
   },
   "outputs": [],
   "source": [
    "nombres_con_a = []\n",
    "for nombres in data_nombres:\n",
    "    if nombres.startswith('A'):\n",
    "        nombres_con_a.append(nombres)\n",
    "\n",
    "print('nombres que comienzan con A')\n",
    "\n",
    "print(nombres_con_a)"
   ]
  },
  {
   "cell_type": "code",
   "execution_count": null,
   "metadata": {
    "collapsed": true
   },
   "outputs": [],
   "source": [
    "#con list comprehension:\n",
    "\n",
    "nombres_con_a = [nombres for nombres in data_nombres if nombres.startswith('A')]\n",
    "\n",
    "print(nombres_con_a)"
   ]
  },
  {
   "cell_type": "markdown",
   "metadata": {},
   "source": [
    "**Quiz: y si queremos los nombres \"capitalized\"?**"
   ]
  },
  {
   "cell_type": "markdown",
   "metadata": {},
   "source": [
    "### Tuplas\n",
    "\n",
    "Son similares a las listas, pero no permiten modificacion de sus elementos. "
   ]
  },
  {
   "cell_type": "code",
   "execution_count": null,
   "metadata": {
    "collapsed": true
   },
   "outputs": [],
   "source": [
    "a = [2, 3]\n",
    "\n",
    "t = (a, [4, 5], 9)\n",
    "\n",
    "print(t)\n",
    "\n",
    "print(t[1:])\n",
    "\n",
    "a[0] = 8\n",
    "\n",
    "print(t)\n",
    "\n",
    "print(t[2])\n",
    "\n",
    "t[2] = 5"
   ]
  },
  {
   "cell_type": "code",
   "execution_count": null,
   "metadata": {
    "collapsed": true
   },
   "outputs": [],
   "source": []
  },
  {
   "cell_type": "markdown",
   "metadata": {},
   "source": [
    "### Strings y listas\n",
    "\n",
    "Ya vimos strings anteriormente. Solo queria mencionar aqui que la implimentación de strings en Python (y en otros lenguajes) es muy similar a la implementación de listas.\n",
    "\n",
    "Por eso en Python podemos hacer \"slicing\" sobre strings de la misma manera que lo hacemos sobre listas. Pero hay otras operaciones que no están permitidas (como cambiar items). En ese sentido, son más parecidos a tuplas.\n"
   ]
  },
  {
   "cell_type": "code",
   "execution_count": null,
   "metadata": {
    "collapsed": true
   },
   "outputs": [],
   "source": [
    "s = 'Hola como estas'\n",
    "\n",
    "s[3:9]\n",
    "\n",
    "a = s\n",
    "\n",
    "s = s.replace('o', 'e')\n",
    "\n",
    "print(a)\n",
    "print(s)"
   ]
  },
  {
   "cell_type": "markdown",
   "metadata": {},
   "source": [
    "La siguiente es una función de variables string, que se utiliza con listas:\n",
    "- str.join(l1): une los elementos de l1 con el string determinado"
   ]
  },
  {
   "cell_type": "code",
   "execution_count": 2,
   "metadata": {},
   "outputs": [
    {
     "ename": "NameError",
     "evalue": "name 'l2' is not defined",
     "output_type": "error",
     "traceback": [
      "\u001b[1;31m---------------------------------------------------------------------------\u001b[0m",
      "\u001b[1;31mNameError\u001b[0m                                 Traceback (most recent call last)",
      "\u001b[1;32m<ipython-input-2-6b36612e3970>\u001b[0m in \u001b[0;36m<module>\u001b[1;34m()\u001b[0m\n\u001b[1;32m----> 1\u001b[1;33m \u001b[0mprint\u001b[0m\u001b[1;33m(\u001b[0m\u001b[1;34m'h'\u001b[0m\u001b[1;33m.\u001b[0m\u001b[0mjoin\u001b[0m\u001b[1;33m(\u001b[0m\u001b[0ml2\u001b[0m\u001b[1;33m)\u001b[0m\u001b[1;33m)\u001b[0m\u001b[1;33m\u001b[0m\u001b[0m\n\u001b[0m",
      "\u001b[1;31mNameError\u001b[0m: name 'l2' is not defined"
     ]
    }
   ],
   "source": [
    "print('h'.join(l2))"
   ]
  },
  {
   "cell_type": "markdown",
   "metadata": {},
   "source": [
    "## Diccionarios\n"
   ]
  },
  {
   "cell_type": "code",
   "execution_count": null,
   "metadata": {
    "collapsed": true
   },
   "outputs": [],
   "source": [
    "d = {'maria': 7 , 'juan': 8, 'elisa': 8, 'diego': 8, 'pedro': 8}\n",
    "\n",
    "print(d)\n",
    "\n",
    "print(d['juan'])\n",
    "\n",
    "d['juan'] = False\n",
    "\n",
    "print(d['juan'])\n"
   ]
  },
  {
   "cell_type": "markdown",
   "metadata": {},
   "source": [
    "La gran ventaja de usar diccionarios es que nos permite encontrar valores que no tienen un orden lógico, de una manera rápida"
   ]
  },
  {
   "cell_type": "code",
   "execution_count": 4,
   "metadata": {},
   "outputs": [
    {
     "name": "stdout",
     "output_type": "stream",
     "text": [
      "3\n"
     ]
    }
   ],
   "source": [
    "# busqueda de datos con listas:\n",
    "\n",
    "data = [('juan', 5), ('maria', 6), ('pedro', 3), ('sofia', 7)]\n",
    "\n",
    "#cual es la nota de pedro?\n",
    "\n",
    "nom_buscado = 'pedro'\n",
    "\n",
    "for nombre, nota in data:\n",
    "    if nombre == nom_buscado:\n",
    "        print(nota)\n",
    "        "
   ]
  },
  {
   "cell_type": "code",
   "execution_count": 5,
   "metadata": {},
   "outputs": [
    {
     "name": "stdout",
     "output_type": "stream",
     "text": [
      "3\n"
     ]
    }
   ],
   "source": [
    "# busqueda con diccionarios\n",
    "\n",
    "data = {'juan': 5, 'maria': 6, 'pedro': 3, 'sofia': 7}\n",
    "\n",
    "print(data[nom_buscado])"
   ]
  },
  {
   "cell_type": "markdown",
   "metadata": {},
   "source": [
    "qué podemos usar cómo índices (keys)? --> cualquier cosa que sea inmutable (o sea, no podemos usar listas), y \"hashable\"\n",
    "\n",
    "en español, se recomienda usar strings, números o tuplas "
   ]
  },
  {
   "cell_type": "code",
   "execution_count": 8,
   "metadata": {},
   "outputs": [
    {
     "ename": "KeyError",
     "evalue": "0.1",
     "output_type": "error",
     "traceback": [
      "\u001b[1;31m---------------------------------------------------------------------------\u001b[0m",
      "\u001b[1;31mKeyError\u001b[0m                                  Traceback (most recent call last)",
      "\u001b[1;32m<ipython-input-8-44edf43dac99>\u001b[0m in \u001b[0;36m<module>\u001b[1;34m()\u001b[0m\n\u001b[0;32m      5\u001b[0m \u001b[0mdiccionario\u001b[0m\u001b[1;33m[\u001b[0m\u001b[1;36m1\u001b[0m\u001b[1;33m-\u001b[0m\u001b[1;36m0.9\u001b[0m\u001b[1;33m]\u001b[0m \u001b[1;33m=\u001b[0m \u001b[1;34m'datos valiosos'\u001b[0m\u001b[1;33m\u001b[0m\u001b[0m\n\u001b[0;32m      6\u001b[0m \u001b[1;33m\u001b[0m\u001b[0m\n\u001b[1;32m----> 7\u001b[1;33m \u001b[0mprint\u001b[0m\u001b[1;33m(\u001b[0m\u001b[0mdiccionario\u001b[0m\u001b[1;33m[\u001b[0m\u001b[1;36m0.1\u001b[0m\u001b[1;33m]\u001b[0m\u001b[1;33m)\u001b[0m\u001b[1;33m\u001b[0m\u001b[0m\n\u001b[0m",
      "\u001b[1;31mKeyError\u001b[0m: 0.1"
     ]
    }
   ],
   "source": [
    "# cuidado con ocupar floats...\n",
    "\n",
    "diccionario = {}\n",
    "\n",
    "diccionario[1-0.9] = 'datos valiosos'\n",
    "\n",
    "print(diccionario[0.1])"
   ]
  },
  {
   "cell_type": "markdown",
   "metadata": {},
   "source": [
    "## Funciones\n",
    "\n",
    "En todo lenguaje de programación podemos definir funciones que toman inputs y entregan un output. Se puede pensar una función como una caja negra que toma los objetos que le pasamos, los transforma, analiza y procesa, y produce un nuevo output dado esas transformaciones, analisis y procesos."
   ]
  },
  {
   "cell_type": "code",
   "execution_count": 9,
   "metadata": {},
   "outputs": [
    {
     "name": "stdout",
     "output_type": "stream",
     "text": [
      "4\n",
      "7\n",
      "5\n"
     ]
    }
   ],
   "source": [
    "def suma_uno(a):\n",
    "    '''\n",
    "    Esta función toma el parámetro \"a\" y le suma 1\n",
    "    '''\n",
    "    \n",
    "    return a + 1\n",
    "\n",
    "print(suma_uno(3))\n",
    "print(suma_uno(6))\n",
    "print(suma_uno(4))\n",
    "    "
   ]
  },
  {
   "cell_type": "markdown",
   "metadata": {},
   "source": [
    "Es importante que nuestras funciones estén bien documentadas y que sean lo más \"comprensivas\" posible, respecto a la variedad de situaciones en las que se pueden poner"
   ]
  },
  {
   "cell_type": "code",
   "execution_count": 10,
   "metadata": {},
   "outputs": [
    {
     "ename": "TypeError",
     "evalue": "must be str, not int",
     "output_type": "error",
     "traceback": [
      "\u001b[1;31m---------------------------------------------------------------------------\u001b[0m",
      "\u001b[1;31mTypeError\u001b[0m                                 Traceback (most recent call last)",
      "\u001b[1;32m<ipython-input-10-a0b072e768dc>\u001b[0m in \u001b[0;36m<module>\u001b[1;34m()\u001b[0m\n\u001b[1;32m----> 1\u001b[1;33m \u001b[0mprint\u001b[0m\u001b[1;33m(\u001b[0m\u001b[0msuma_uno\u001b[0m\u001b[1;33m(\u001b[0m\u001b[1;34m'1'\u001b[0m\u001b[1;33m)\u001b[0m\u001b[1;33m)\u001b[0m\u001b[1;33m\u001b[0m\u001b[0m\n\u001b[0m",
      "\u001b[1;32m<ipython-input-9-edac30b230ee>\u001b[0m in \u001b[0;36msuma_uno\u001b[1;34m(a)\u001b[0m\n\u001b[0;32m      4\u001b[0m     '''\n\u001b[0;32m      5\u001b[0m \u001b[1;33m\u001b[0m\u001b[0m\n\u001b[1;32m----> 6\u001b[1;33m     \u001b[1;32mreturn\u001b[0m \u001b[0ma\u001b[0m \u001b[1;33m+\u001b[0m \u001b[1;36m1\u001b[0m\u001b[1;33m\u001b[0m\u001b[0m\n\u001b[0m\u001b[0;32m      7\u001b[0m \u001b[1;33m\u001b[0m\u001b[0m\n\u001b[0;32m      8\u001b[0m \u001b[0mprint\u001b[0m\u001b[1;33m(\u001b[0m\u001b[0msuma_uno\u001b[0m\u001b[1;33m(\u001b[0m\u001b[1;36m3\u001b[0m\u001b[1;33m)\u001b[0m\u001b[1;33m)\u001b[0m\u001b[1;33m\u001b[0m\u001b[0m\n",
      "\u001b[1;31mTypeError\u001b[0m: must be str, not int"
     ]
    }
   ],
   "source": [
    "print(suma_uno('1'))"
   ]
  },
  {
   "cell_type": "markdown",
   "metadata": {},
   "source": [
    "La función anterior está mal definida, ya que arroja un error cuando se le entrega un input erroneo. Aquí hay varias opciones sobre qué hacer, lo mejor es siempre hacer explícita alguna situación puntual"
   ]
  },
  {
   "cell_type": "code",
   "execution_count": 13,
   "metadata": {},
   "outputs": [
    {
     "name": "stdout",
     "output_type": "stream",
     "text": [
      "Advertencia, input erroneo\n",
      "None\n",
      "4\n",
      "4.3\n"
     ]
    }
   ],
   "source": [
    "def suma_uno_mejor(a):\n",
    "    '''\n",
    "    Input: debe ser un número (int o float)\n",
    "    Return: entrega un número (int o float)\n",
    "    '''\n",
    "    \n",
    "    #revisa el tipo de la variable \"a\"\n",
    "    \n",
    "    if type(a) not in (int, float):\n",
    "        print('Advertencia, input erroneo')\n",
    "        return None\n",
    "    \n",
    "    return a + 1\n",
    "\n",
    "print(suma_uno_mejor('3'))\n",
    "print(suma_uno_mejor(3))\n",
    "print(suma_uno_mejor(3.3))"
   ]
  },
  {
   "cell_type": "markdown",
   "metadata": {},
   "source": [
    "#### Parametros por defecto\n",
    "\n"
   ]
  },
  {
   "cell_type": "code",
   "execution_count": 15,
   "metadata": {},
   "outputs": [
    {
     "name": "stdout",
     "output_type": "stream",
     "text": [
      "8\n",
      "5\n"
     ]
    }
   ],
   "source": [
    "def suma_delta(a, delta=1):\n",
    "    '''\n",
    "    Suma \"delta\" al número a. Si no entrega delta, se ocupa valor por defecto\n",
    "    '''\n",
    "    if type(a) not in (int, float):\n",
    "        print('Advertencia, input erroneo')\n",
    "        return None\n",
    "    \n",
    "    return a + delta\n",
    "\n",
    "print(suma_delta(4, 4))\n",
    "print(suma_delta(4))"
   ]
  },
  {
   "cell_type": "code",
   "execution_count": null,
   "metadata": {
    "collapsed": true
   },
   "outputs": [],
   "source": []
  }
 ],
 "metadata": {
  "anaconda-cloud": {},
  "kernelspec": {
   "display_name": "Python 3",
   "language": "python",
   "name": "python3"
  },
  "language_info": {
   "codemirror_mode": {
    "name": "ipython",
    "version": 3
   },
   "file_extension": ".py",
   "mimetype": "text/x-python",
   "name": "python",
   "nbconvert_exporter": "python",
   "pygments_lexer": "ipython3",
   "version": "3.6.3"
  }
 },
 "nbformat": 4,
 "nbformat_minor": 2
}
