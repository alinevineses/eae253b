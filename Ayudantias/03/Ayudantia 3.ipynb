{
 "cells": [
  {
   "cell_type": "markdown",
   "metadata": {},
   "source": [
    "<center><h1>Ayudantía 3</h1></center>\n",
    "<hr style=\"color=skyblue; border-color:skyblue\"/>\n",
    "<div style=\"display:inline-block;float:left\"><h3>Profesor: Carlos Alvarado</h3></div>\n",
    "<div style=\"display:inline-block;float:right\"><h3>Ayudante: Pablo González</h3></div>\n",
    "<br/>\n",
    "\n",
    "<table style=\"width:90%; font-size:18px; float:left;color:#333;\">\n",
    "  <tr style=\"background:#90ffc8\">\n",
    "    <th style=\"text-align:left\">Actividad</th>\n",
    "    <th style=\"text-align:left\">Objetivo</th> \n",
    "  </tr>\n",
    "  <tr>\n",
    "    <td style=\"text-align:left\">Repaso</td>\n",
    "    <td style=\"text-align:left\"><ul>\n",
    "        <li>Imprimiendo en Python.</li>\n",
    "        <li>Variables, tipos de datos y expresiones.</li>\n",
    "        <li>Listas.</li>\n",
    "        <li>Funciones, métodos y paquetes.</li>\n",
    "        <li>Procesos Iterativos.</li>\n",
    "    </ul></td> \n",
    "  </tr>\n",
    "  \n",
    "  <tr>\n",
    "    <td style=\"text-align:left\">Sublime</td>\n",
    "    <td style=\"text-align:left\"><ul>\n",
    "        <li>Instalación de Software.</li>\n",
    "    </ul></td> \n",
    "  </tr>\n",
    "  \n",
    "  <tr>\n",
    "    <td style=\"text-align:left\">Programa sencillo</td>\n",
    "    <td style=\"text-align:left\"><ul>\n",
    "        <li>Importar archivo .txt en python.</li>\n",
    "        <li>Leer y editar archivo.</li>\n",
    "    </ul></td> \n",
    "  </tr>\n",
    "    \n",
    "   <tr>\n",
    "    <td style=\"text-align:left\">Pasar parámetros a Python</td>\n",
    "    <td style=\"text-align:left\"><ul>\n",
    "        <li>Uso de sys.</li>\n",
    "        <li>Input.</li>\n",
    "    </ul></td> \n",
    "  </tr>\n",
    "    \n",
    "   <tr>\n",
    "    <td style=\"text-align:left\">Python desde terminal</td>\n",
    "    <td style=\"text-align:left\"><ul>\n",
    "        <li>Abrir terminal desde Python.</li>\n",
    "        <li>Ejecutar archivos desde terminal.</li>\n",
    "        <li>Uso de batch</li>\n",
    "    </ul>\n",
    "    </td> \n",
    "  </tr>\n",
    "\n",
    "    \n",
    "   <tr>\n",
    "    <td style=\"text-align:left\">Dudas</td>\n",
    "    <td style=\"text-align:left\"><ul>\n",
    "        <li>Ayudantía / Stata / Tarea.</li>\n",
    "    </ul></td> \n",
    "  </tr>\n",
    "</table>"
   ]
  },
  {
   "cell_type": "markdown",
   "metadata": {},
   "source": [
    "<h3>Repaso</h3>\n",
    "<hr />"
   ]
  },
  {
   "cell_type": "markdown",
   "metadata": {},
   "source": [
    "#### Imprimiendo en Python"
   ]
  },
  {
   "cell_type": "code",
   "execution_count": 9,
   "metadata": {
    "scrolled": false
   },
   "outputs": [
    {
     "name": "stdout",
     "output_type": "stream",
     "text": [
      "Hola \n",
      " #2\n",
      "Primera línea\n",
      "Segunda línea\n",
      "Tercera línea\n",
      "5\n",
      "35\n"
     ]
    }
   ],
   "source": [
    "print(\"Hola \\n #2\")\n",
    "print(\"\"\"Primera línea\n",
    "Segunda línea\n",
    "Tercera línea\"\"\")\n",
    "print(2+3)\n",
    "siete = 4+3\n",
    "print(siete**2 - siete*2)"
   ]
  },
  {
   "cell_type": "markdown",
   "metadata": {},
   "source": [
    "#### Variables, tipos de datos y expresiones."
   ]
  },
  {
   "cell_type": "code",
   "execution_count": 29,
   "metadata": {},
   "outputs": [
    {
     "name": "stdout",
     "output_type": "stream",
     "text": [
      "<class 'str'> <class 'bool'> <class 'bool'> <class 'int'> <class 'float'>\n",
      "2\n",
      "<class 'str'> <class 'float'>\n",
      "Hola Hola \n"
     ]
    }
   ],
   "source": [
    "string = \"Esto es una linea de texto\"\n",
    "verdadero = True\n",
    "falso = False\n",
    "uno = 1\n",
    "numero = 987654.5\n",
    "print(type(string) , type(verdadero), type(falso),type(uno), type(numero))\n",
    "print(False + True + True) # Los booleanos son expresados como 1 y 0\n",
    "string2 = str(numero)\n",
    "numero2 = float(string2)\n",
    "print(type(string2) , type(numero2))\n",
    "\n",
    "#Qué pasaría en estos casos?\n",
    "#print(\"Hola \"*2)\n",
    "#print(\"Hola\"**2)"
   ]
  },
  {
   "cell_type": "markdown",
   "metadata": {},
   "source": [
    "#### Listas"
   ]
  },
  {
   "cell_type": "code",
   "execution_count": 7,
   "metadata": {},
   "outputs": [
    {
     "name": "stdout",
     "output_type": "stream",
     "text": [
      "['Micro I', 45.4, 'Conta II', 40, 'Macro II', 50.0, 'Economía y Ciencia de los datos', 70, 'Ética', 10]\n",
      "['Micro I', 45.4, 'Macro II', 50.0, 'Economía y Ciencia de los datos', 70, 'Ética', 10, 'Calculo IV', 51] []\n"
     ]
    }
   ],
   "source": [
    "sem1 = [\"Microeconomía I\", 45.40, \"Conta II\", 39.49, \"Macro II\", 50.0, \"Economía y Ciencia de los datos\", 70, \"Ética\", 60.5]\n",
    "sem1[0] = \"Micro I\"\n",
    "sem1[3] = 40\n",
    "sem1[-1] = 10\n",
    "print(sem1)\n",
    "tav = sem1 + [\"Calculo IV\", 51]\n",
    "del(tav[2:4])\n",
    "del(sem1[:])\n",
    "print(tav , sem1)"
   ]
  },
  {
   "cell_type": "code",
   "execution_count": 8,
   "metadata": {},
   "outputs": [
    {
     "name": "stdout",
     "output_type": "stream",
     "text": [
      "['Micro I', 45.4, 'Macro II', 50.0, 'Economía y Ciencia de los datos', 70, 'Ética', 10, 'Calculo IV', 51] \n",
      " 39.5\n",
      "['Mercados', 50, 'OFG', 60, 'OPR', 65]\n"
     ]
    }
   ],
   "source": [
    "notas = [ tav,\n",
    "         [\"Micro II\", 50, \"Conta II\", 45, \"Macro Internacional\", 45, \"OFG\", 68, \"OPR\", 60],\n",
    "         [\"Competencia\", 46, \"Cyt\",  50, \"Mercados\",50,\"OFG\",60,\"OPR\",65],\n",
    "         [\"Teoría Micro\", 46, \"Teoría Macro\",  52, \"Eco Mate\",48,\"Análisis Real\",39.5]\n",
    "        ]\n",
    "print(notas[0] , \"\\n\" , notas[3][-1])\n",
    "print(notas[2][4:])"
   ]
  },
  {
   "cell_type": "markdown",
   "metadata": {},
   "source": [
    "#### Funciones métodos y paquetes"
   ]
  },
  {
   "cell_type": "code",
   "execution_count": 3,
   "metadata": {},
   "outputs": [
    {
     "name": "stdout",
     "output_type": "stream",
     "text": [
      "Escriba el radio: 45\n",
      "Diametro es 282.7433388230814 y area es 6361.725123519331\n"
     ]
    }
   ],
   "source": [
    "#print(pi)\n",
    "from math import pi as pi\n",
    "r = float(input(\"Escriba el radio: \"))\n",
    "diametro = 2*pi*r\n",
    "area = pi*r**2\n",
    "print(\"Diametro es \" + str(diametro) + \" y area es \" + str(area))"
   ]
  },
  {
   "cell_type": "code",
   "execution_count": 5,
   "metadata": {},
   "outputs": [
    {
     "name": "stdout",
     "output_type": "stream",
     "text": [
      "21/08/2018\n"
     ]
    }
   ],
   "source": [
    "import datetime\n",
    "fecha = datetime.datetime.now().strftime (\"%d/%m/%Y\")\n",
    "print(fecha)"
   ]
  },
  {
   "cell_type": "markdown",
   "metadata": {},
   "source": [
    "#### Procesos iterativos"
   ]
  },
  {
   "cell_type": "code",
   "execution_count": 7,
   "metadata": {},
   "outputs": [
    {
     "data": {
      "image/png": "[encoded data removed]",
      "text/plain": [
       "<Figure size 432x288 with 1 Axes>"
      ]
     },
     "metadata": {},
     "output_type": "display_data"
    }
   ],
   "source": [
    "import matplotlib.pyplot as plt\n",
    "linea = []\n",
    "cuadrado = []\n",
    "for x in range(26):\n",
    "    linea.append(x)\n",
    "    cuadrado.append(x**0.5)\n",
    "\n",
    "plt.plot(linea,cuadrado) #Mostrar con scatter también\n",
    "plt.xlabel(\"x\")\n",
    "plt.ylabel(\"y\")\n",
    "plt.title(\"Raíz de x\")\n",
    "plt.show()"
   ]
  },
  {
   "cell_type": "code",
   "execution_count": 2,
   "metadata": {},
   "outputs": [
    {
     "data": {
      "image/png": "[encoded data removed]",
      "text/plain": [
       "<Figure size 432x288 with 1 Axes>"
      ]
     },
     "metadata": {},
     "output_type": "display_data"
    }
   ],
   "source": [
    "import matplotlib.pyplot as plt\n",
    "import numpy as np\n",
    "\n",
    "pib = [10000,45712.0, 11712.0, 50649.600000000006, 7230.400000000001, 2340.8, 2548.8, 43144.0, 60169.600000000006, 16737.600000000002, 2510.4, 664.0, 19291.2, 1672.0, 1214.4, 19923.2, 1668.8000000000002, 2884.8, 17531.2, 19164.8, 4953.6, 14806.400000000001, 6112.0, 1318.4, 1510.4, 7697.6, 1745.6000000000001, 58876.8, 40296.0, 4398.400000000001, 992.0, 3222.4, 78971.20000000001, 35705.6, 4169.6]\n",
    "esperanza = [30,52.0, 47.0, 53.0, 47.0, 36.0, 44.0, 51.0, 50.0, 47.0, 29.0, 31.0, 48.0, 40.0, 33.0, 48.0, 37.0, 42.0, 47.0, 49.0, 44.0, 48.0, 46.0, 29.0, 41.0, 36.0, 42.0, 51.0, 52.0, 47.0, 38.0, 32.0, 52.0, 49.0, 43.0]\n",
    "poblacion = [700,101.7625, 36.365, 223.0725, 105.08749999999999, 62.317499999999995, 40.775, 85.82, 69.825, 6.859999999999999, 3.5174999999999996, 5.5825, 10.57, 33.5475, 23.3275, 43.435, 21.0525, 5.7225, 2.1875, 190.225, 5.0225, 1.1900000000000002, 59.08, 34.9125, 83.58, 3.605, 50.574999999999996, 28.997500000000002, 7.21, 9.94, 22.5575, 236.3025, 8.1025, 5.6000000000000005, 296.2225]\n",
    "colores = np.random.rand(len(poblacion))\n",
    "\n",
    "plt.scatter(pib, esperanza, s = poblacion, c = colores,alpha=0.8)\n",
    "plt.xscale('log') \n",
    "plt.xlabel('PIB per Cápita (en dólares)')\n",
    "plt.ylabel('Esperanza de vida (en años)')\n",
    "plt.title('Desarrollo mundial en 2007')\n",
    "plt.xticks([1000, 10000, 100000],['1000', '10.000', '100.000'])\n",
    "plt.text(10000, 32, 'Narnia')\n",
    "plt.show()"
   ]
  },
  {
   "cell_type": "code",
   "execution_count": 30,
   "metadata": {},
   "outputs": [
    {
     "data": {
      "image/png": "[encoded data removed]",
      "text/plain": [
       "<Figure size 432x288 with 1 Axes>"
      ]
     },
     "metadata": {},
     "output_type": "display_data"
    }
   ],
   "source": [
    "#API en https://matplotlib.org/api/pyplot_api.html\n",
    "import numpy as np\n",
    "import matplotlib.pyplot as plt\n",
    "\n",
    "np.random.seed(1996) #Dejamos una semilla para que se pueda reproducir \n",
    "\n",
    "N = 30\n",
    "x = np.random.rand(N)\n",
    "y = np.random.rand(N)\n",
    "colors = np.random.rand(N)\n",
    "area = (50 * np.random.rand(N))**2\n",
    "\n",
    "plt.scatter(x, y, s=area, c=colors, alpha=0.5)\n",
    "plt.show()"
   ]
  },
  {
   "cell_type": "markdown",
   "metadata": {},
   "source": [
    "<h2>Sublime</h2>\n",
    "<h3><a href=\"https://www.sublimetext.com/\"> Descargar Software</a></h3>"
   ]
  },
  {
   "cell_type": "markdown",
   "metadata": {},
   "source": [
    "<h2>Programa sencillo</h2><br/>\n",
    "<span>Con el siguiente código nos moveremos a nuestro directorio de trabajo e importaremos el archivo abrir.txt para leerlo.</span>\n",
    "\n",
    "#### Uso de open()"
   ]
  },
  {
   "cell_type": "code",
   "execution_count": 7,
   "metadata": {},
   "outputs": [
    {
     "name": "stdout",
     "output_type": "stream",
     "text": [
      "C:\\Users\\pablo\\Desktop\\ayudantia\\eae253b\\Ayudantias\\03\n",
      "Código de Honor de la universidad\n",
      "“Como miembro de la comunidad de la Pontificia Universidad Católica de Chile me comprometo a respetar los principios y normativas que la rigen. Asimismo, prometo actuar con rectitud y honestidad en las relaciones con los demás integrantes de la comunidad y en la realización de todo trabajo, particularmente en aquellas actividades vinculadas a la docencia, el aprendizaje y la creación, difusión y transferencia del conocimiento. Además, velaré por la integridad de las personas y cuidaré los bienes de la Universidad”.\n"
     ]
    }
   ],
   "source": [
    "import os\n",
    "os.chdir(r\"C:/Users/pablo/Desktop/ayudantia/eae253b/Ayudantias/03\")\n",
    "print(os.getcwd())\n",
    "f=open('abrir.txt','r')#Abrimos el archivo\n",
    "print(f.read()) #Lo leemos"
   ]
  },
  {
   "cell_type": "code",
   "execution_count": 9,
   "metadata": {},
   "outputs": [
    {
     "name": "stdout",
     "output_type": "stream",
     "text": [
      "'Código de Honor de la universidad\\n'\n",
      "'“Como miembro de la comunidad de la Pontificia Universidad Católica de Chile me comprometo a respetar los principios y normativas que la rigen. Asimismo, prometo actuar con rectitud y honestidad en las relaciones con los demás integrantes de la comunidad y en la realización de todo trabajo, particularmente en aquellas actividades vinculadas a la docencia, el aprendizaje y la creación, difusión y transferencia del conocimiento. Además, velaré por la integridad de las personas y cuidaré los bienes de la Universidad”.'\n",
      "\n"
     ]
    }
   ],
   "source": [
    "#Alternativamente: Lo leemos línea por línea.\n",
    "f=open('abrir.txt','r') #Nuevamente, ya que el archivo se cerró.    \n",
    "for line in f:    \n",
    "    print(repr(line))\n",
    "f.read()"
   ]
  },
  {
   "cell_type": "markdown",
   "metadata": {},
   "source": [
    "<span style=\"font-weight:bold;\">¿Y si quisieramos escribir algo en el archivo?</span>"
   ]
  },
  {
   "cell_type": "code",
   "execution_count": null,
   "metadata": {},
   "outputs": [],
   "source": [
    "with open('abrir.txt','r+') as f:\n",
    "    texto = f.read()\n",
    "    print(texto)\n",
    "    f.write(\"\\n Acepto|Rechazo \\n\") #Escribimos una nueva linea en el archivo"
   ]
  },
  {
   "cell_type": "code",
   "execution_count": null,
   "metadata": {},
   "outputs": [],
   "source": [
    "f.read() #Error (Ya se cerró el archivo)\n",
    "print(texto) #Se sigue viendo"
   ]
  },
  {
   "cell_type": "markdown",
   "metadata": {},
   "source": [
    "#### Operaciones con sys"
   ]
  },
  {
   "cell_type": "code",
   "execution_count": 8,
   "metadata": {},
   "outputs": [
    {
     "name": "stdout",
     "output_type": "stream",
     "text": [
      "0\n"
     ]
    }
   ],
   "source": [
    "import sys\n",
    "count = 0\n",
    "for line in sys.stdin:\n",
    "    count += 1\n",
    "print(count)"
   ]
  },
  {
   "cell_type": "markdown",
   "metadata": {},
   "source": [
    "Guardemos ese código bajo el nombre contar lineas.py y ejecutémoslo de la siguiente forma. <br/>\n",
    "python hola.py < usuario.txt\n",
    "\n",
    "#### Uso de input"
   ]
  },
  {
   "cell_type": "code",
   "execution_count": 1,
   "metadata": {},
   "outputs": [
    {
     "name": "stdout",
     "output_type": "stream",
     "text": [
      "Escribe algo Hola\n",
      " Hola\n"
     ]
    }
   ],
   "source": [
    "a = input(\"Escribe algo \")\n",
    "print(\" \"+a)"
   ]
  },
  {
   "cell_type": "markdown",
   "metadata": {},
   "source": [
    "<h2>Python desde línea de comandos</h2>"
   ]
  },
  {
   "cell_type": "code",
   "execution_count": null,
   "metadata": {},
   "outputs": [],
   "source": [
    "import os\n",
    "os.system(\"start cmd\") #Aparecerá la pantalla de comando."
   ]
  },
  {
   "cell_type": "markdown",
   "metadata": {},
   "source": [
    "Dentro de la terminal escribir: \n",
    "<div style=\"background:black; color:white; width:90%; height: auto; margin:15px; padding:10px; border-radius:10px; font-weight:bold;\">\n",
    "cd [Dirección del archivo] <br/>\n",
    "python \"Stuck in a time loop.py\"\n",
    "<span style=\"color:limegreen\">#Prueba escribir un número en lo que aparezca... </span><br/>\n",
    "python \"Apaxiaaaaaaaaaaaans.py\"\n",
    "<span style=\"color:limegreen\">#NOOOOOOOOOOOOOOOOOOOOOOOO!!!!!!</span><br/><br/>\n",
    "python<br/>\n",
    "print(\"hola\")<br/>\n",
    "print(2+3)<br/>\n",
    "for x in range(10): <br/>\n",
    "&emsp; print(x,x**2)\n",
    "<span style=\"color:limegreen\">#Como ven, podemos ejecutar código desde la termina</span><br/><br/>\n",
    "<br/>\n",
    "</div>"
   ]
  },
  {
   "cell_type": "markdown",
   "metadata": {},
   "source": [
    "<div style=\"font-size:20px;\">Ahora veamos como funcional los archivos .bat:\n",
    "<u style=\"color:#d01538;font-weight:bold; text-decoration:underline;\">Apaxiaaaaaaaaaaaans / Acción</u></div>"
   ]
  },
  {
   "cell_type": "markdown",
   "metadata": {},
   "source": [
    "<hr style=\"color=orange; border-color:red; height:2px; background:orange\" />\n",
    "<h2 style=\"text-align:center; font-weight:bold;\">¿Dudas?</h2>"
   ]
  }
 ],
 "metadata": {
  "kernelspec": {
   "display_name": "Python 3",
   "language": "python",
   "name": "python3"
  },
  "language_info": {
   "codemirror_mode": {
    "name": "ipython",
    "version": 3
   },
   "file_extension": ".py",
   "mimetype": "text/x-python",
   "name": "python",
   "nbconvert_exporter": "python",
   "pygments_lexer": "ipython3",
   "version": "3.6.5"
  }
 },
 "nbformat": 4,
 "nbformat_minor": 2
}
