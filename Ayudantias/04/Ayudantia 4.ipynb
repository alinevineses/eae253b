{
 "cells": [
  {
   "cell_type": "markdown",
   "metadata": {},
   "source": [
    "<center><h1>Ayudantía 4</h1></center>\n",
    "<hr style=\"color=skyblue; border-color:skyblue\"/>\n",
    "<div style=\"display:inline-block;float:left\"><h3>Profesor: Carlos Alvarado</h3></div>\n",
    "<div style=\"display:inline-block;float:right\"><h3>Ayudante: Pablo González</h3></div>\n",
    "\n",
    "\n",
    "<table style=\"width:90%; font-size:18px; float:left;color:#333;\">\n",
    "  <tr style=\"background:#90ffc8\">\n",
    "    <th style=\"text-align:left\">Actividad</th>\n",
    "    <th style=\"text-align:left\">Objetivo</th> \n",
    "  </tr>\n",
    "  <tr>\n",
    "    <td style=\"text-align:left\">Repaso</td>\n",
    "    <td style=\"text-align:left\"><ul>\n",
    "        <li>Listas.</li>\n",
    "        <li>Diccionarios.</li>\n",
    "        <li>Loops.</li>\n",
    "    </ul></td> \n",
    "  </tr>\n",
    "    \n",
    "  <tr>\n",
    "    <td style=\"text-align:left\">Ejercicios con diccionarios</td>\n",
    "    <td style=\"text-align:left\"><ul>\n",
    "        <li>Loops en diccionarios.</li>\n",
    "        <li>Aplicando el método items()</li>\n",
    "    </ul></td> \n",
    "  </tr>\n",
    "    \n",
    "   <tr>\n",
    "    <td style=\"text-align:left\">Ejercicios tipo tareas</td>\n",
    "    <td style=\"text-align:left\"><ul>\n",
    "        <li>Ejercicios Kattis.</li>\n",
    "        <li>Propuestos.</li>\n",
    "    </ul></td> \n",
    "  </tr>\n",
    "    \n",
    "   <tr>\n",
    "    <td style=\"text-align:left\">Cierre</td>\n",
    "    <td style=\"text-align:left\"><ul>\n",
    "        <li>Ayudantía / Stata / Tarea.</li>\n",
    "    </ul></td> \n",
    "  </tr>\n",
    "  \n",
    "</table>"
   ]
  },
  {
   "cell_type": "markdown",
   "metadata": {},
   "source": [
    "<h3>Repaso</h3>\n",
    "<hr />"
   ]
  },
  {
   "cell_type": "markdown",
   "metadata": {},
   "source": [
    "#### Listas"
   ]
  },
  {
   "cell_type": "code",
   "execution_count": 27,
   "metadata": {},
   "outputs": [
    {
     "name": "stdout",
     "output_type": "stream",
     "text": [
      "[0, 1, 2, 3, 4, 5, 6, 7, 8, 9] \n",
      " [0, 1, 4, 9, 16, 25, 36, 49, 64, 81] \n",
      " [0, 1, 8, 27, 64, 125, 216, 343, 512, 729]\n"
     ]
    }
   ],
   "source": [
    "mi_lista = [0,1,2,3,4,5,6,7,8,9]\n",
    "cuadrado = []\n",
    "cubo = []\n",
    "for num in mi_lista:\n",
    "    cuadrado.append(num**2)\n",
    "    cubo.append(num**3)\n",
    "print(mi_lista,'\\n',cuadrado,'\\n',cubo)"
   ]
  },
  {
   "cell_type": "code",
   "execution_count": 4,
   "metadata": {},
   "outputs": [
    {
     "name": "stdout",
     "output_type": "stream",
     "text": [
      "['Micro I', 45.4, 'Macro II', 50.0, 'Economía y Ciencia de los datos', 70, 'Ética', 10, 'Calculo IV', 51] \n",
      " 39.5\n",
      "['Mercados', 50, 'OFG', 60, 'OPR', 65]\n",
      "[['Micro II', 50, 'Conta II', 45, 'Macro Internacional', 45, 'OFG', 68, 'OPR', 60], ['Competencia', 46, 'Cyt', 50, 'Mercados', 50, 'OFG', 60, 'OPR', 65], ['Teoría Micro', 46, 'Teoría Macro', 52, 'Eco Mate', 48, 'Análisis Real', 39.5]]\n"
     ]
    }
   ],
   "source": [
    "notas = [['Micro I', 45.4, 'Macro II', 50.0, 'Economía y Ciencia de los datos', 70, 'Ética', 10, 'Calculo IV', 51] ,\n",
    "         [\"Micro II\", 50, \"Conta II\", 45, \"Macro Internacional\", 45, \"OFG\", 68, \"OPR\", 60],\n",
    "         [\"Competencia\", 46, \"Cyt\",  50, \"Mercados\",50,\"OFG\",60,\"OPR\",65],\n",
    "         [\"Teoría Micro\", 46, \"Teoría Macro\",  52, \"Eco Mate\",48,\"Análisis Real\",39.5]\n",
    "        ]\n",
    "print(notas[0] , \"\\n\" , notas[3][-1])\n",
    "print(notas[2][4:])\n",
    "notas.remove(notas[0])\n",
    "print(notas)"
   ]
  },
  {
   "cell_type": "markdown",
   "metadata": {},
   "source": [
    "#### Diccionarios"
   ]
  },
  {
   "cell_type": "code",
   "execution_count": 26,
   "metadata": {},
   "outputs": [
    {
     "name": "stdout",
     "output_type": "stream",
     "text": [
      "80\n"
     ]
    }
   ],
   "source": [
    "empty_dict = {} #Para vaciar un diccionario.\n",
    "empty_dict2 = dict()  #Otra forma (menos estándar)\n",
    "notas = { \"Nicolas\" : 80, \"Juan\" : 95 }\n",
    "nota_nicolas = notas[\"Nicolas\"]\n",
    "print(nota_nicolas)"
   ]
  },
  {
   "cell_type": "code",
   "execution_count": 29,
   "metadata": {},
   "outputs": [
    {
     "name": "stdout",
     "output_type": "stream",
     "text": [
      "No tiene nota\n"
     ]
    }
   ],
   "source": [
    "#Qué pasaría si intentamos obtener un valor que no existe en nuestro diccionario?\n",
    "try:\n",
    "    nota_camila = notas[\"Camila\"]\n",
    "except KeyError: \n",
    "    print(\"No tiene nota\")"
   ]
  },
  {
   "cell_type": "code",
   "execution_count": 31,
   "metadata": {},
   "outputs": [
    {
     "name": "stdout",
     "output_type": "stream",
     "text": [
      "True False\n"
     ]
    }
   ],
   "source": [
    "#Podemos comprobar quienes están en el diccionario.\n",
    "intento1 = \"Nicolas\" in notas #True\n",
    "intento2 = \"Camila\" in notas #False\n",
    "print(intento1,intento2)"
   ]
  },
  {
   "cell_type": "code",
   "execution_count": 45,
   "metadata": {},
   "outputs": [
    {
     "name": "stdout",
     "output_type": "stream",
     "text": [
      "La nota de Nicolás es: 90\n",
      "Contamos con 3 estudiantes\n"
     ]
    }
   ],
   "source": [
    "#También podemos alterar los valores de nuestros diccinarios\n",
    "notas[\"Nicolas\"] = 90 #Cambiamos la nota de Nicolas\n",
    "notas[\"Camila\"] = 95 #Agregamos a Camila\n",
    "num = len(notas) #¿Cuántos estudiantes tenemos?\n",
    "print(\"La nota de Nicolás es: \" + str(notas[\"Nicolas\"]))\n",
    "print(\"Contamos con\" , num , \"estudiantes\") #Ahora tenemos a tres estudiantes."
   ]
  },
  {
   "cell_type": "code",
   "execution_count": 51,
   "metadata": {},
   "outputs": [],
   "source": [
    "tweet = { \n",
    "    \"usuario\" : \"Alan Brito\", \n",
    "    \"texto\" : \"Data Science is Awesome\", \n",
    "    \"caracteres\" : 100, \n",
    "    \"hashtags\" : [\"#data\", \"#science\", \"#datascience\", \"#awesome\"]\n",
    "}"
   ]
  },
  {
   "cell_type": "code",
   "execution_count": 53,
   "metadata": {},
   "outputs": [
    {
     "data": {
      "text/plain": [
       "True"
      ]
     },
     "execution_count": 53,
     "metadata": {},
     "output_type": "execute_result"
    }
   ],
   "source": [
    "tweet_keys = tweet.keys() # list de llaves\n",
    "tweet_values = tweet.values() # list of values tweet_items = tweet.items()\n",
    "\"usuario\" in tweet_keys\n",
    "\"usuario\" in tweet\n",
    "\"Alan Brito\" in tweet_values"
   ]
  },
  {
   "cell_type": "code",
   "execution_count": 115,
   "metadata": {},
   "outputs": [
    {
     "name": "stdout",
     "output_type": "stream",
     "text": [
      "Nombre : Google, Valor : 247.18\n",
      "Nombre : UC, Valor : 44.11\n",
      "Nombre : Tesla, Valor : 67\n"
     ]
    }
   ],
   "source": [
    "def funcion():\n",
    "    acciones = {\n",
    "        'Google': 247.18,\n",
    "        'UC':44.11,\n",
    "        'Tesla':67\n",
    "    }\n",
    "    \n",
    "    #Imprimamos cuáles son las llaves\n",
    "    #for c in acciones:\n",
    "    #    print(c)\n",
    "    \n",
    "    #Imprimamos las llaves y los valores \n",
    "    for a, b in acciones.items():\n",
    "        print(\"Nombre : {0}, Valor : {1}\".format(a, b))\n",
    "    \n",
    "if __name__ == '__main__':\n",
    "    funcion()"
   ]
  },
  {
   "cell_type": "markdown",
   "metadata": {},
   "source": [
    "<h2>Ejercicios</h2><br/>\n",
    "\n",
    "#### Ejercicio 1:"
   ]
  },
  {
   "cell_type": "code",
   "execution_count": null,
   "metadata": {},
   "outputs": [],
   "source": [
    "def main():\n",
    "    acciones = {\n",
    "        'Google': 146.48,\n",
    "        'UC':44.11,\n",
    "        'Tesla':67\n",
    "    }\n",
    "    #Imprimamos cuáles son las llaves\n",
    "    #for c in acciones:\n",
    "    #    print(c)\n",
    "    \n",
    "    #Imprimamos las llaves y los valores \n",
    "    for k, v in acciones.items():\n",
    "        print(\"Nombre : {0}, Valor : {1}\".format(k, v))\n",
    "    \n",
    "if __name__ == '__main__':\n",
    "    main()"
   ]
  },
  {
   "cell_type": "markdown",
   "metadata": {},
   "source": [
    "#### Ejercicio 2 "
   ]
  },
  {
   "cell_type": "code",
   "execution_count": 134,
   "metadata": {},
   "outputs": [
    {
     "name": "stdout",
     "output_type": "stream",
     "text": [
      "uva: precio= 2 dólares y cantidad= 7\n",
      "manzana: precio= 3 dólares y cantidad= 0\n",
      "naranja: precio= 0.5 dólares y cantidad= 15\n",
      "piña: precio= 5 dólares y cantidad= 12\n",
      "El total es de 60 dólares\n"
     ]
    }
   ],
   "source": [
    "#Creamos el diccionario inventario\n",
    "stock={}\n",
    "#Añadimos valores\n",
    "stock[\"uva\"]= 7\n",
    "stock[\"manzana\"]= 0\n",
    "stock[\"naranja\"] =15\n",
    "stock[\"piña\"]= 12\n",
    "\n",
    "\n",
    "#Creamos el diccionario: Precios\n",
    "prices={}\n",
    "#Add values\n",
    "prices[\"uva\"]=2\n",
    "prices[\"manzana\"]= 3\n",
    "prices[\"naranja\"]= 0.5\n",
    "prices[\"piña\"]= 5\n",
    "\n",
    "#Show all prices and stock\n",
    "\n",
    "for food in prices:\n",
    "    print(food + \": precio= %s dólares y cantidad= %d\" % (prices[food],stock[food]))\n",
    "\n",
    "total=0\n",
    "for price in prices:\n",
    "     money= prices[price]*stock[price]\n",
    "        \n",
    "total= total + money\n",
    "\n",
    "print(\"El total es de %s dólares\" % total)\n"
   ]
  },
  {
   "cell_type": "markdown",
   "metadata": {},
   "source": [
    "### Ejercicio 3\n",
    "Escriba una función \"duplicados()\" que tome los elementos de una lista y elimine aquellos que están repetidosl.\n",
    "Por ejemplo: duplicados([4,3,3,3]) debiese devolver el valor [4,3].\n",
    "\n"
   ]
  },
  {
   "cell_type": "code",
   "execution_count": 5,
   "metadata": {},
   "outputs": [
    {
     "data": {
      "text/plain": [
       "[4, 5, 3, 2, 1, 6, 7, 8]"
      ]
     },
     "execution_count": 5,
     "metadata": {},
     "output_type": "execute_result"
    }
   ],
   "source": [
    "def duplicados(num):\n",
    "    result = []\n",
    "    for item in num:\n",
    "        if item not in result:\n",
    "            result.append(item)\n",
    "    return result\n",
    "\n",
    "duplicados([4,5,5,5,5,4,3,2,1,4,5,6,7,8])"
   ]
  },
  {
   "cell_type": "markdown",
   "metadata": {},
   "source": [
    "<h2>Ejercicios Propuestos</h2>"
   ]
  },
  {
   "cell_type": "markdown",
   "metadata": {},
   "source": [
    "### Ejercicio 1\n",
    "Usando un loop, y en base al diccionario entregado, genere un programa que entregue un puntaje a las palabras escritas, como si de scrabble se tratara."
   ]
  },
  {
   "cell_type": "code",
   "execution_count": 4,
   "metadata": {},
   "outputs": [],
   "source": [
    "puntaje = {\"a\": 1, \"c\": 3, \"b\": 3, \"e\": 1, \"d\": 2, \"g\": 2,\n",
    "          \"f\": 4, \"i\": 1, \"h\": 4, \"k\": 5, \"j\": 8, \"m\": 3,\n",
    "          \"l\": 1, \"o\": 1, \"n\": 1, \"q\": 10, \"p\": 3, \"s\": 1,\n",
    "          \"r\": 1, \"u\": 1, \"t\": 1, \"w\": 4, \"v\": 4, \"y\": 4,\n",
    "          \"x\": 8, \"z\": 10}"
   ]
  },
  {
   "cell_type": "markdown",
   "metadata": {},
   "source": [
    "#### Ejercicio 2:\n",
    "Genere una tabla que muestre compare las críticas de películas de las 2 personas que se ingresen. "
   ]
  },
  {
   "cell_type": "code",
   "execution_count": 18,
   "metadata": {},
   "outputs": [
    {
     "data": {
      "text/plain": [
       "1.0"
      ]
     },
     "execution_count": 18,
     "metadata": {},
     "output_type": "execute_result"
    }
   ],
   "source": [
    "critica_peliculas = {}\n",
    "critica_peliculas = {\n",
    "'Juan':    {'Avenger: Age of Ultron': 7.0, 'Django Unchained': 7.5, 'Gone Girl': 6.5,'Kill the Messenger': 8.0},\n",
    "'Diego':   {'Avenger: Age of Ultron': 10.0, 'Django Unchained': 6.0, 'Gone Girl': 6.5,\n",
    "            'Kill the Messenger': 6.0, 'Zoolander': 6.5},\n",
    "'Carlos':  {'Avenger: Age of Ultron': 7.0, 'Django Unchained': 7.0, 'Gone Girl': 10.0, 'Horrible Bosses 2': 6.0, 'Kill the Messenger': 5.0, 'Zoolander': 10.0},\n",
    "'Rodrigo': {'Avenger: Age of Ultron': 8.0, 'Django Unchained': 7.0, 'Horrible Bosses 2': 5.0, 'Kill the Messenger': 9.0, 'Zoolander': 9.0},\n",
    "'Vicente': {'Avenger: Age of Ultron': 10.0, 'Django Unchained': 7.5, 'Gone Girl': 6.0,\n",
    "            'Horrible Bosses 2': 3.0, 'Kill the Messenger': 5.5, 'Zoolander': 7.0},\n",
    "'Javier':  {'Avenger: Age of Ultron': 8.5, 'Django Unchained': 9.0, 'Zoolander': 1.0},\n",
    "'Celso': {'Avenger: Age of Ultron': 6.0, 'Django Unchained': 8.0, 'Gone Girl': 7.0,\n",
    "             'Horrible Bosses 2': 4.0, 'Kill the Messenger': 6.5, 'Zoolander': 3.0}}\n",
    "\n",
    "critica_peliculas['Javier']['Zoolander']"
   ]
  },
  {
   "cell_type": "code",
   "execution_count": 4,
   "metadata": {},
   "outputs": [],
   "source": [
    "import pandas as pd #Nos permitirá tratar las tablas.\n",
    "\n",
    "def comparacion(input_data, user1, user2):\n",
    "    \n",
    "    \n",
    "    #----------------- Ingrese su código aquí----------------------\n",
    "    \n",
    "    return pd.DataFrame(data = data, columns = ['movie', user1, user2])\n",
    "\n",
    "respuesta = comparacion(movie_user_preferences, 'Sam', 'William')\n",
    "respuesta"
   ]
  },
  {
   "cell_type": "markdown",
   "metadata": {},
   "source": [
    "### Ejercicio 3 (Kattis)"
   ]
  },
  {
   "cell_type": "markdown",
   "metadata": {},
   "source": [
    "### <a href\"https://open.kattis.com/problems/anewalphabet\">A new Alphabet</a>"
   ]
  },
  {
   "cell_type": "markdown",
   "metadata": {},
   "source": [
    "<hr style=\"color=orange; border-color:red; height:2px; background:orange\" />\n",
    "<h2 style=\"text-align:center; font-weight:bold;\">¿Dudas?</h2>"
   ]
  }
 ],
 "metadata": {
  "kernelspec": {
   "display_name": "Python 3",
   "language": "python",
   "name": "python3"
  },
  "language_info": {
   "codemirror_mode": {
    "name": "ipython",
    "version": 3
   },
   "file_extension": ".py",
   "mimetype": "text/x-python",
   "name": "python",
   "nbconvert_exporter": "python",
   "pygments_lexer": "ipython3",
   "version": "3.6.5"
  }
 },
 "nbformat": 4,
 "nbformat_minor": 2
}
